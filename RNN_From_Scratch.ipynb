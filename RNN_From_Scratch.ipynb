{
 "cells": [
  {
   "cell_type": "markdown",
   "id": "bb740ca6-7d9e-4e8d-9074-58d57b5200da",
   "metadata": {},
   "source": [
    "# RNN Implementation from Scratch"
   ]
  },
  {
   "cell_type": "markdown",
   "id": "b3d8f0b8-6e51-4377-bc53-9a0b5b3dc05d",
   "metadata": {},
   "source": [
    "## Import Libraries"
   ]
  },
  {
   "cell_type": "code",
   "execution_count": 37,
   "id": "35eb32df-9294-4ae4-9322-aa755b0d6f52",
   "metadata": {},
   "outputs": [],
   "source": [
    "import numpy as np"
   ]
  },
  {
   "cell_type": "markdown",
   "id": "0d3d710a-659c-4c3f-905a-de7fbc1d0894",
   "metadata": {},
   "source": [
    "## Import Data"
   ]
  },
  {
   "cell_type": "code",
   "execution_count": 38,
   "id": "961eaf06-eb23-4871-b023-c9489b09dc7f",
   "metadata": {},
   "outputs": [],
   "source": [
    "# Create a NumPy array from the values\n",
    "data = np.array([66, 70, 62, 65])\n",
    "\n",
    "# Select the first three values into a variable named temps\n",
    "temps = data[:3]"
   ]
  },
  {
   "cell_type": "code",
   "execution_count": 39,
   "id": "0b3e0c27-4d78-4408-a68a-bc9936df9d28",
   "metadata": {},
   "outputs": [
    {
     "name": "stdout",
     "output_type": "stream",
     "text": [
      "Data:  [66 70 62 65]\n",
      "Input:  [66 70 62]\n"
     ]
    }
   ],
   "source": [
    "print(\"Data: \",data)\n",
    "print(\"Input: \",temps)"
   ]
  },
  {
   "cell_type": "markdown",
   "id": "8c87767f-be24-4391-ac59-244fdc0ca2f7",
   "metadata": {},
   "source": [
    "## Forward Pass"
   ]
  },
  {
   "cell_type": "markdown",
   "id": "dd78103c-8283-44fc-9d84-1bfda469a3e5",
   "metadata": {},
   "source": [
    "### Initialize Weights"
   ]
  },
  {
   "cell_type": "code",
   "execution_count": 40,
   "id": "f92be02d-5513-4873-925c-3df8bfef1708",
   "metadata": {},
   "outputs": [],
   "source": [
    "np.random.seed(0)\n",
    "\n",
    "input_weights = np.random.rand(1,2)\n",
    "\n",
    "hidden_weights = np.random.rand(2,2)\n",
    "hidden_bias = np.random.rand(1,2)\n",
    "\n",
    "output_weights = np.random.rand(2,1)\n",
    "output_bias = np.random.rand(1,1)"
   ]
  },
  {
   "cell_type": "code",
   "execution_count": 41,
   "id": "79059afc-4b4b-4d4b-87e4-e231d2b0ab7b",
   "metadata": {},
   "outputs": [
    {
     "name": "stdout",
     "output_type": "stream",
     "text": [
      "Input Weights:  [[0.5488135  0.71518937]]\n",
      "Hidden Weights:  [[0.60276338 0.54488318]\n",
      " [0.4236548  0.64589411]]\n",
      "Hidden Bias:  [[0.43758721 0.891773  ]]\n",
      "Output Weights:  [[0.96366276]\n",
      " [0.38344152]]\n",
      "Output Bias:  [[0.79172504]]\n"
     ]
    }
   ],
   "source": [
    "print(\"Input Weights: \",input_weights)\n",
    "print(\"Hidden Weights: \",hidden_weights)\n",
    "print(\"Hidden Bias: \",hidden_bias)\n",
    "print(\"Output Weights: \",output_weights)\n",
    "print(\"Output Bias: \",output_bias)"
   ]
  },
  {
   "cell_type": "markdown",
   "id": "75980bdd-9647-433d-a467-533a39defacd",
   "metadata": {},
   "source": [
    "### Apply Weights"
   ]
  },
  {
   "cell_type": "code",
   "execution_count": 43,
   "id": "bd69ae68-a940-4018-9c5a-4909652a61c4",
   "metadata": {},
   "outputs": [],
   "source": [
    "# An array to store the output predictions\n",
    "outputs = np.zeros(3)\n",
    "# An array to store hidden states for use in backpropagation\n",
    "hiddens = np.zeros((3, 2))\n",
    "\n",
    "# This will store the previous hidden state, since we'll need it to calculate the current hidden step\n",
    "prev_hidden = None\n",
    "sequence = temps\n",
    "\n",
    "for i in range(3):\n",
    "    # Get the input sequence at the given position\n",
    "    x = sequence[i].reshape(1,1)\n",
    "\n",
    "    # Multiply input by input weight\n",
    "    xi = x @ input_weights\n",
    "    if prev_hidden is not None:\n",
    "        # Add previous hidden to input\n",
    "        xh = xi + prev_hidden @ hidden_weights + hidden_bias\n",
    "    else:\n",
    "        xh = xi\n",
    "\n",
    "    # Apply our activation function\n",
    "    xh = np.tanh(xh)\n",
    "    prev_hidden = xh\n",
    "    hiddens[i,] = xh\n",
    "\n",
    "    # Multiply by the output weight\n",
    "    xo = xh @ output_weights + output_bias\n",
    "    outputs[i] = xo"
   ]
  },
  {
   "cell_type": "markdown",
   "id": "a76fae12-021f-46f5-aec1-8cf1ce9b4c6a",
   "metadata": {},
   "source": [
    "### Outputs"
   ]
  },
  {
   "cell_type": "code",
   "execution_count": 44,
   "id": "1f1a9fc1-246f-4e15-ac19-8c0e579df907",
   "metadata": {},
   "outputs": [
    {
     "data": {
      "text/plain": [
       "array([2.13882932, 2.13882932, 2.13882932])"
      ]
     },
     "execution_count": 44,
     "metadata": {},
     "output_type": "execute_result"
    }
   ],
   "source": [
    "outputs"
   ]
  },
  {
   "cell_type": "code",
   "execution_count": 45,
   "id": "f4b876d7-29a2-475c-a8d3-d249cbcf72c9",
   "metadata": {},
   "outputs": [
    {
     "data": {
      "text/plain": [
       "array([[1., 1.],\n",
       "       [1., 1.],\n",
       "       [1., 1.]])"
      ]
     },
     "execution_count": 45,
     "metadata": {},
     "output_type": "execute_result"
    }
   ],
   "source": [
    "hiddens"
   ]
  },
  {
   "cell_type": "markdown",
   "id": "4940acc1-b0c3-46cc-9d34-d2d3f0d6ef20",
   "metadata": {},
   "source": [
    "## Calculate Loss"
   ]
  },
  {
   "cell_type": "code",
   "execution_count": 48,
   "id": "670d9d1a-c561-489c-9fc5-04248fa7dcae",
   "metadata": {},
   "outputs": [],
   "source": [
    "def loss(actual, predicted):\n",
    "    return (predicted - actual)"
   ]
  },
  {
   "cell_type": "code",
   "execution_count": 49,
   "id": "b8f50e20-2ed9-4b01-982d-328ce67edbee",
   "metadata": {},
   "outputs": [
    {
     "data": {
      "text/plain": [
       "array([-67.86117068, -59.86117068, -62.86117068])"
      ]
     },
     "execution_count": 49,
     "metadata": {},
     "output_type": "execute_result"
    }
   ],
   "source": [
    "# Actual next day temperatures\n",
    "actuals = np.array([70, 62, 65])\n",
    "\n",
    "loss_values = loss(actuals, outputs)\n",
    "loss_values"
   ]
  }
 ],
 "metadata": {
  "kernelspec": {
   "display_name": "Python 3 (ipykernel)",
   "language": "python",
   "name": "python3"
  },
  "language_info": {
   "codemirror_mode": {
    "name": "ipython",
    "version": 3
   },
   "file_extension": ".py",
   "mimetype": "text/x-python",
   "name": "python",
   "nbconvert_exporter": "python",
   "pygments_lexer": "ipython3",
   "version": "3.11.5"
  }
 },
 "nbformat": 4,
 "nbformat_minor": 5
}
